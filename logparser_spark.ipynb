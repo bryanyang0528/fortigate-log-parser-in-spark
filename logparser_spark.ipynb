{
 "cells": [
  {
   "cell_type": "code",
   "execution_count": 1,
   "metadata": {
    "collapsed": false
   },
   "outputs": [],
   "source": [
    "#!/usr/bin/env python\n",
    "from __future__ import print_function\n",
    "from pyspark import SparkContext\n",
    "from pyspark import SparkConf\n",
    "from pyspark.sql import HiveContext\n",
    "from datetime import datetime\n",
    "import os\n",
    "import gc\n",
    "import sys\n",
    "import time\n",
    "\n",
    "__author__ = \"Bryan Yang\"\n",
    "__version__ = \"1.0.1\"\n",
    "__maintainer__ = \"Bryan Yang\""
   ]
  },
  {
   "cell_type": "code",
   "execution_count": 54,
   "metadata": {
    "collapsed": true
   },
   "outputs": [],
   "source": [
    "def run(inpath, outpath):\n",
    "    \n",
    "    gc.disable()\n",
    "    # initial SparkContext\n",
    "    conf = SparkConf().setAppName(\"Forgate Log Parser\")\n",
    "    sc = SparkContext(conf=conf)\n",
    "    sqlCtx = HiveContext(sc)\n",
    "    start_time = time.time()\n",
    "    print(\"===== INPUT FILE PATH: %s =====\" % (str(inpath)))\n",
    "    print(\"===== OUTPUT FILE PATH: %s =====\" % (str(outpath)))\n",
    "    \n",
    "    print(\"===== %s Reading Data From HDFS\" % (now()))\n",
    "    distFile = sc.textFile(inpath)\n",
    "    cnt_raw = distFile.count()\n",
    "    print(\"===== Count of Input Data: %s =====\" % (str(cnt_raw)))\n",
    "    \n",
    "    print(\"===== %s Parsing Data\" % (now()))\n",
    "    parsedData = parse_data(sc, distFile)\n",
    "    print(\"===== Count of Parsed Data: %s =====\" % (str(parsedData.count())))\n",
    "    \n",
    "    print(\"===== %s Saving Data\" % (now()))\n",
    "    jsonData = sqlCtx.jsonRDD(parsedData)\n",
    "    jsonData.write.partitionBy('date').parquet(outpath,mode='overwrite')\n",
    "    sqlCtx.sql(\"\")\n",
    "    \n",
    "    print(\"===== %s Checking Data\" % (now()))\n",
    "    cnt_parquet = confirm_row(sqlCtx, outpath)\n",
    "    print(\"===== Count of Parquet Data: %s =====\" % (str(cnt_parquet)))\n",
    "    \n",
    "    if (cnt_raw == cnt_parquet):\n",
    "        print(\"===== Pass =====\")\n",
    "    else:\n",
    "        print(\"===== Not Pass =====\")\n",
    "    \n",
    "    print(\"---Total %s seconds ---\" % (time.time() - start_time))\n",
    "    \n",
    "    sc.stop()\n",
    "    gc.enable()\n",
    "    "
   ]
  },
  {
   "cell_type": "code",
   "execution_count": 42,
   "metadata": {
    "collapsed": true
   },
   "outputs": [],
   "source": [
    "def parse_data(sc, df):\n",
    "    parsedData = df.map(lambda x: _space_split(x))\\\n",
    "                .map(lambda x: [x[:4],x[4:]])\\\n",
    "                .map(lambda x: dict([('month',x[0][0].encode('ascii', 'ignore')),\\\n",
    "                ('day',x[0][1].encode('ascii', 'ignore')),\\\n",
    "                ('time',x[0][2].encode('ascii', 'ignore')),\\\n",
    "                ('ip',x[0][3].encode('ascii', 'ignore'))] + \\\n",
    "    [(i[0].encode('ascii', 'ignore'),i[1].encode('ascii', 'ignore')) for i in [i.split('=') for i in x[1]] if len(i)==2]))\n",
    "    return parsedData\n",
    "            "
   ]
  },
  {
   "cell_type": "code",
   "execution_count": 2,
   "metadata": {
    "collapsed": true
   },
   "outputs": [],
   "source": [
    "def confirm_row(sqlCtx, outpath):\n",
    "    df = sqlCtx.read.parquet(os.path.join(outpath))\n",
    "    cnt = df.count()\n",
    "    return cnt"
   ]
  },
  {
   "cell_type": "code",
   "execution_count": 3,
   "metadata": {
    "collapsed": true
   },
   "outputs": [],
   "source": [
    "def now():\n",
    "    return datetime.now().strftime('%Y-%m-%d %H:%M:%S')"
   ]
  },
  {
   "cell_type": "code",
   "execution_count": 44,
   "metadata": {
    "collapsed": false
   },
   "outputs": [],
   "source": [
    "def _space_split(string):\n",
    "        \"\"\"\n",
    "        There are some blank in single/ double quotes in the data(like country)\n",
    "        Avoid to split it.\n",
    "        :param string: string\n",
    "        :return: list\n",
    "        \"\"\"\n",
    "        last = 0\n",
    "        splits = []\n",
    "        inQuote = None\n",
    "\n",
    "        for i, letter in enumerate(string):\n",
    "            if inQuote:\n",
    "                if (letter == inQuote):\n",
    "                    inQuote = None\n",
    "\n",
    "            else:\n",
    "                if (letter == '\"' or letter == \"'\"):\n",
    "                    inQuote = letter\n",
    "\n",
    "            if not inQuote and letter == ' ':\n",
    "                splits.append(string[last:i])\n",
    "                last = i + 1\n",
    "\n",
    "        if last < len(string):\n",
    "            splits.append(string[last:])\n",
    "\n",
    "        return splits"
   ]
  },
  {
   "cell_type": "code",
   "execution_count": 23,
   "metadata": {
    "collapsed": false
   },
   "outputs": [
    {
     "name": "stdout",
     "output_type": "stream",
     "text": [
      "INPUT PATH: -f\n",
      "OUTPUT PATH: /home/bryan.yang/.local/share/jupyter/runtime/kernel-5b2f45f2-8f55-49a9-9567-e04ea47a2bbf.json\n"
     ]
    },
    {
     "ename": "AttributeError",
     "evalue": "'function' object has no attribute '_get_object_id'",
     "output_type": "error",
     "traceback": [
      "\u001b[1;31m---------------------------------------------------------------------------\u001b[0m",
      "\u001b[1;31mAttributeError\u001b[0m                            Traceback (most recent call last)",
      "\u001b[1;32m<ipython-input-23-a443c364585c>\u001b[0m in \u001b[0;36m<module>\u001b[1;34m()\u001b[0m\n\u001b[0;32m      6\u001b[0m         \u001b[1;32mraise\u001b[0m \u001b[0mValueError\u001b[0m\u001b[1;33m(\u001b[0m\u001b[1;34m\"logparser_spark [input hdfs path] [output hdfs path]\"\u001b[0m\u001b[1;33m)\u001b[0m\u001b[1;33m\u001b[0m\u001b[0m\n\u001b[0;32m      7\u001b[0m \u001b[1;33m\u001b[0m\u001b[0m\n\u001b[1;32m----> 8\u001b[1;33m     \u001b[0mrun\u001b[0m\u001b[1;33m(\u001b[0m\u001b[0margs\u001b[0m\u001b[1;33m[\u001b[0m\u001b[1;36m1\u001b[0m\u001b[1;33m]\u001b[0m\u001b[1;33m,\u001b[0m \u001b[0margs\u001b[0m\u001b[1;33m[\u001b[0m\u001b[1;36m2\u001b[0m\u001b[1;33m]\u001b[0m\u001b[1;33m)\u001b[0m\u001b[1;33m\u001b[0m\u001b[0m\n\u001b[0m",
      "\u001b[1;32m<ipython-input-19-5a008abeba0e>\u001b[0m in \u001b[0;36mrun\u001b[1;34m(inpath, outpath)\u001b[0m\n\u001b[0;32m      8\u001b[0m     \u001b[1;32mprint\u001b[0m\u001b[1;33m(\u001b[0m\u001b[1;34m\"OUTPUT PATH: \"\u001b[0m\u001b[1;33m+\u001b[0m\u001b[0mstr\u001b[0m\u001b[1;33m(\u001b[0m\u001b[0moutpath\u001b[0m\u001b[1;33m)\u001b[0m\u001b[1;33m)\u001b[0m\u001b[1;33m\u001b[0m\u001b[0m\n\u001b[0;32m      9\u001b[0m \u001b[1;33m\u001b[0m\u001b[0m\n\u001b[1;32m---> 10\u001b[1;33m     \u001b[0mdistFile\u001b[0m \u001b[1;33m=\u001b[0m \u001b[0msc\u001b[0m\u001b[1;33m.\u001b[0m\u001b[0mtextFile\u001b[0m\u001b[1;33m(\u001b[0m\u001b[0minput\u001b[0m\u001b[1;33m)\u001b[0m\u001b[1;33m\u001b[0m\u001b[0m\n\u001b[0m\u001b[0;32m     11\u001b[0m     \u001b[1;32mprint\u001b[0m\u001b[1;33m(\u001b[0m\u001b[1;34m\"Count of Inout Data: \"\u001b[0m \u001b[1;33m+\u001b[0m \u001b[0mstr\u001b[0m\u001b[1;33m(\u001b[0m\u001b[0mdistFile\u001b[0m\u001b[1;33m.\u001b[0m\u001b[0mcount\u001b[0m\u001b[1;33m(\u001b[0m\u001b[1;33m)\u001b[0m\u001b[1;33m)\u001b[0m\u001b[1;33m)\u001b[0m\u001b[1;33m\u001b[0m\u001b[0m\n\u001b[0;32m     12\u001b[0m \u001b[1;33m\u001b[0m\u001b[0m\n",
      "\u001b[1;32m/home/bryan.yang/opt/spark-1.6.1-bin-hadoop2.6/python/pyspark/context.pyc\u001b[0m in \u001b[0;36mtextFile\u001b[1;34m(self, name, minPartitions, use_unicode)\u001b[0m\n\u001b[0;32m    472\u001b[0m         \"\"\"\n\u001b[0;32m    473\u001b[0m         \u001b[0mminPartitions\u001b[0m \u001b[1;33m=\u001b[0m \u001b[0mminPartitions\u001b[0m \u001b[1;32mor\u001b[0m \u001b[0mmin\u001b[0m\u001b[1;33m(\u001b[0m\u001b[0mself\u001b[0m\u001b[1;33m.\u001b[0m\u001b[0mdefaultParallelism\u001b[0m\u001b[1;33m,\u001b[0m \u001b[1;36m2\u001b[0m\u001b[1;33m)\u001b[0m\u001b[1;33m\u001b[0m\u001b[0m\n\u001b[1;32m--> 474\u001b[1;33m         return RDD(self._jsc.textFile(name, minPartitions), self,\n\u001b[0m\u001b[0;32m    475\u001b[0m                    UTF8Deserializer(use_unicode))\n\u001b[0;32m    476\u001b[0m \u001b[1;33m\u001b[0m\u001b[0m\n",
      "\u001b[1;32m/home/bryan.yang/opt/spark-1.6.1-bin-hadoop2.6/python/lib/py4j-0.9-src.zip/py4j/java_gateway.py\u001b[0m in \u001b[0;36m__call__\u001b[1;34m(self, *args)\u001b[0m\n\u001b[0;32m    802\u001b[0m \u001b[1;33m\u001b[0m\u001b[0m\n\u001b[0;32m    803\u001b[0m         args_command = \"\".join(\n\u001b[1;32m--> 804\u001b[1;33m             [get_command_part(arg, self.pool) for arg in new_args])\n\u001b[0m\u001b[0;32m    805\u001b[0m \u001b[1;33m\u001b[0m\u001b[0m\n\u001b[0;32m    806\u001b[0m         \u001b[0mcommand\u001b[0m \u001b[1;33m=\u001b[0m \u001b[0mproto\u001b[0m\u001b[1;33m.\u001b[0m\u001b[0mCALL_COMMAND_NAME\u001b[0m \u001b[1;33m+\u001b[0m\u001b[0;31m\\\u001b[0m\u001b[1;33m\u001b[0m\u001b[0m\n",
      "\u001b[1;32m/home/bryan.yang/opt/spark-1.6.1-bin-hadoop2.6/python/lib/py4j-0.9-src.zip/py4j/protocol.py\u001b[0m in \u001b[0;36mget_command_part\u001b[1;34m(parameter, python_proxy_pool)\u001b[0m\n\u001b[0;32m    276\u001b[0m             \u001b[0mcommand_part\u001b[0m \u001b[1;33m+=\u001b[0m \u001b[1;34m\";\"\u001b[0m \u001b[1;33m+\u001b[0m \u001b[0minterface\u001b[0m\u001b[1;33m\u001b[0m\u001b[0m\n\u001b[0;32m    277\u001b[0m     \u001b[1;32melse\u001b[0m\u001b[1;33m:\u001b[0m\u001b[1;33m\u001b[0m\u001b[0m\n\u001b[1;32m--> 278\u001b[1;33m         \u001b[0mcommand_part\u001b[0m \u001b[1;33m=\u001b[0m \u001b[0mREFERENCE_TYPE\u001b[0m \u001b[1;33m+\u001b[0m \u001b[0mparameter\u001b[0m\u001b[1;33m.\u001b[0m\u001b[0m_get_object_id\u001b[0m\u001b[1;33m(\u001b[0m\u001b[1;33m)\u001b[0m\u001b[1;33m\u001b[0m\u001b[0m\n\u001b[0m\u001b[0;32m    279\u001b[0m \u001b[1;33m\u001b[0m\u001b[0m\n\u001b[0;32m    280\u001b[0m     \u001b[0mcommand_part\u001b[0m \u001b[1;33m+=\u001b[0m \u001b[1;34m\"\\n\"\u001b[0m\u001b[1;33m\u001b[0m\u001b[0m\n",
      "\u001b[1;31mAttributeError\u001b[0m: 'function' object has no attribute '_get_object_id'"
     ]
    }
   ],
   "source": [
    "if __name__ == '__main__':\n",
    "    # arguments\n",
    "    if len(sys.argv) == 3:\n",
    "        args = sys.argv\n",
    "    else:\n",
    "        raise ValueError(\"logparser_spark.py [hdfs path if input file] [hdfs path of output file]\")\n",
    "\n",
    "    run(args[1], args[2])"
   ]
  },
  {
   "cell_type": "code",
   "execution_count": null,
   "metadata": {
    "collapsed": true
   },
   "outputs": [],
   "source": []
  }
 ],
 "metadata": {
  "kernelspec": {
   "display_name": "Python 2",
   "language": "python",
   "name": "python2"
  },
  "language_info": {
   "codemirror_mode": {
    "name": "ipython",
    "version": 2
   },
   "file_extension": ".py",
   "mimetype": "text/x-python",
   "name": "python",
   "nbconvert_exporter": "python",
   "pygments_lexer": "ipython2",
   "version": "2.7.11"
  }
 },
 "nbformat": 4,
 "nbformat_minor": 0
}
