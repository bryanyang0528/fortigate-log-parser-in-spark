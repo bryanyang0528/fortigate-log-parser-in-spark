{
 "cells": [
  {
   "cell_type": "code",
   "execution_count": null,
   "metadata": {
    "collapsed": false
   },
   "outputs": [],
   "source": [
    "#!/usr/bin/env python\n",
    "from __future__ import print_function\n",
    "from pyspark import SparkContext\n",
    "from pyspark import SparkConf\n",
    "from pyspark.sql import HiveContext\n",
    "from datetime import datetime\n",
    "import os\n",
    "import gc\n",
    "import sys\n",
    "import time\n",
    "\n",
    "__author__ = \"Bryan Yang\"\n",
    "__version__ = \"1.0.1\"\n",
    "__maintainer__ = \"Bryan Yang\"\n",
    "__home__=\"/home/bryan.yang/fortigate/src/logparser_spark\"\n",
    "__path_of_log__= os.path.join(__home__,\"log_history.log\")"
   ]
  },
  {
   "cell_type": "code",
   "execution_count": null,
   "metadata": {
    "collapsed": true
   },
   "outputs": [],
   "source": [
    "def run(inpath, outpath):\n",
    "    \n",
    "    gc.disable()\n",
    "    print(\"===== Checking if Log Exists =====\")\n",
    "    check_log(inpath)\n",
    "    print(\"===== Pass Log Checking =====\")\n",
    "    \n",
    "    # initial SparkContext\n",
    "    conf = SparkConf().setAppName(\"Forgate Log Parser\")\n",
    "    sc = SparkContext(conf=conf)\n",
    "    sqlCtx = HiveContext(sc)\n",
    "    start_time = time.time()\n",
    "    print(\"===== INPUT FILE PATH: %s =====\" % (str(inpath)))\n",
    "    print(\"===== OUTPUT FILE PATH: %s =====\" % (str(outpath)))\n",
    "    print(\"===== %s Reading Data From HDFS\" % (now()))\n",
    "    distFile = sc.textFile(inpath)\n",
    "    cnt_raw = distFile.count()\n",
    "    print(\"===== Count of Input Data: %s =====\" % (str(cnt_raw)))\n",
    "    \n",
    "    print(\"===== %s Parsing Data\" % (now()))\n",
    "    parsedData = parse_data(sc, distFile)\n",
    "    print(\"===== Count of Parsed Data: %s =====\" % (str(parsedData.count())))\n",
    "    \n",
    "    print(\"===== %s Saving Data\" % (now()))\n",
    "    jsonData = sqlCtx.jsonRDD(parsedData)\n",
    "    old_col=['time','date']\n",
    "    new_col=['time_','dt']\n",
    "    jsonData = rename_column(jsonData, old_col, new_col)\n",
    "    jsonData.write.partitionBy('dt').parquet(outpath,mode='append')\n",
    "    \n",
    "    print(\"===== %s Checking Data\" % (now()))\n",
    "    confirm_row(sqlCtx, outpath)\n",
    "    write_log(inpath)\n",
    "    print(\"---Total took %s seconds ---\" % (time.time() - start_time))\n",
    "    \n",
    "    sc.stop()\n",
    "    gc.enable()\n",
    "    "
   ]
  },
  {
   "cell_type": "code",
   "execution_count": null,
   "metadata": {
    "collapsed": true
   },
   "outputs": [],
   "source": [
    "def parse_data(sc, df):\n",
    "    parsedData = df.map(lambda x: _space_split(x))\\\n",
    "                .map(lambda x: [x[:4],x[4:]])\\\n",
    "                .map(lambda x: dict([('month',x[0][0].encode('ascii', 'ignore')),\\\n",
    "                ('day',x[0][1].encode('ascii', 'ignore')),\\\n",
    "                ('time',x[0][2].encode('ascii', 'ignore')),\\\n",
    "                ('ip',x[0][3].encode('ascii', 'ignore'))] + \\\n",
    "    [(i[0].encode('ascii', 'ignore'),i[1].encode('ascii', 'ignore')) for i in [i.split('=') for i in x[1]] if len(i)==2]))\n",
    "    return parsedData\n",
    "            "
   ]
  },
  {
   "cell_type": "code",
   "execution_count": null,
   "metadata": {
    "collapsed": true
   },
   "outputs": [],
   "source": [
    "def confirm_row(sqlCtx, outpath):\n",
    "    df = sqlCtx.read.parquet(outpath)\n",
    "    df.groupBy('dt').count().show()"
   ]
  },
  {
   "cell_type": "code",
   "execution_count": null,
   "metadata": {
    "collapsed": true
   },
   "outputs": [],
   "source": [
    "def now():\n",
    "    return datetime.now().strftime('%Y-%m-%d %H:%M:%S')"
   ]
  },
  {
   "cell_type": "code",
   "execution_count": null,
   "metadata": {
    "collapsed": true
   },
   "outputs": [],
   "source": [
    "def rename_column(df, old_col, new_col):\n",
    "    if isinstance(old_col, basestring) and isinstance(new_col, basestring):\n",
    "        df = df.withColumnRenamed(old_col, new_col)\n",
    "    elif isinstance(old_col, list) and len(old_col) == len(new_col):\n",
    "        for i in xrange(len(old_col)):\n",
    "            df = df.withColumnRenamed(old_col[i], new_col[i])\n",
    "    else:\n",
    "        raise ValueErrorr(\"length of old and new column name is not match\")\n",
    "    return df"
   ]
  },
  {
   "cell_type": "code",
   "execution_count": null,
   "metadata": {
    "collapsed": false
   },
   "outputs": [],
   "source": [
    "def check_log(inpath):\n",
    "    #check if a file exists and create it\n",
    "    open(__path_of_log__, \"a\")\n",
    "    log_name = inpath.split(\"/\")[-1]\n",
    "    with open(__path_of_log__) as f:\n",
    "        lines = f.read().splitlines()\n",
    "        logs = [i.split(\" \")[-1] for i in lines]\n",
    "    if log_name in logs:\n",
    "        raise ValueError(\"the log file has been loaded\")\n",
    "    else:\n",
    "        return True"
   ]
  },
  {
   "cell_type": "code",
   "execution_count": null,
   "metadata": {
    "collapsed": true
   },
   "outputs": [],
   "source": [
    "def write_log(inpath):\n",
    "    log_name = inpath.split(\"/\")[-1]\n",
    "    with open(__path_of_log__, \"a\") as f:\n",
    "        f.write(\"%s %s\\n\" % (now(),log_name))"
   ]
  },
  {
   "cell_type": "code",
   "execution_count": null,
   "metadata": {
    "collapsed": false
   },
   "outputs": [],
   "source": [
    "def _space_split(string):\n",
    "        \"\"\"\n",
    "        There are some blank in single/ double quotes in the data(like country)\n",
    "        Avoid to split it.\n",
    "        :param string: string\n",
    "        :return: list\n",
    "        \"\"\"\n",
    "        last = 0\n",
    "        splits = []\n",
    "        inQuote = None\n",
    "\n",
    "        for i, letter in enumerate(string):\n",
    "            if inQuote:\n",
    "                if (letter == inQuote):\n",
    "                    inQuote = None\n",
    "\n",
    "            else:\n",
    "                if (letter == '\"' or letter == \"'\"):\n",
    "                    inQuote = letter\n",
    "\n",
    "            if not inQuote and letter == ' ':\n",
    "                splits.append(string[last:i])\n",
    "                last = i + 1\n",
    "\n",
    "        if last < len(string):\n",
    "            splits.append(string[last:])\n",
    "\n",
    "        return splits"
   ]
  },
  {
   "cell_type": "code",
   "execution_count": null,
   "metadata": {
    "collapsed": false
   },
   "outputs": [],
   "source": [
    "if __name__ == '__main__':\n",
    "    # arguments\n",
    "    if len(sys.argv) == 3:\n",
    "        args = sys.argv\n",
    "    else:\n",
    "        raise ValueError(\"logparser_spark.py [hdfs path if input file] [hdfs path of output file]\")\n",
    "    # check if log has been loaded\n",
    "    \n",
    "    run(args[1], args[2])"
   ]
  },
  {
   "cell_type": "code",
   "execution_count": null,
   "metadata": {
    "collapsed": false
   },
   "outputs": [],
   "source": [
    "\n"
   ]
  },
  {
   "cell_type": "code",
   "execution_count": null,
   "metadata": {
    "collapsed": true
   },
   "outputs": [],
   "source": []
  }
 ],
 "metadata": {
  "kernelspec": {
   "display_name": "Python 2",
   "language": "python",
   "name": "python2"
  },
  "language_info": {
   "codemirror_mode": {
    "name": "ipython",
    "version": 2
   },
   "file_extension": ".py",
   "mimetype": "text/x-python",
   "name": "python",
   "nbconvert_exporter": "python",
   "pygments_lexer": "ipython2",
   "version": "2.7.11"
  }
 },
 "nbformat": 4,
 "nbformat_minor": 0
}
